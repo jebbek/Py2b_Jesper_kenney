{
 "cells": [
  {
   "cell_type": "code",
   "execution_count": 13,
   "id": "c5e1aa8e",
   "metadata": {},
   "outputs": [],
   "source": [
    "import numpy as np"
   ]
  },
  {
   "cell_type": "code",
   "execution_count": 16,
   "id": "65216a5e",
   "metadata": {},
   "outputs": [
    {
     "name": "stdout",
     "output_type": "stream",
     "text": [
      "[1 2 3 4 5 6 7 8 9]\n"
     ]
    }
   ],
   "source": [
    "numpy_array = np.array([1,2,3,4,5,6,7,8,9])\n",
    "print(numpy_array)"
   ]
  },
  {
   "cell_type": "code",
   "execution_count": 50,
   "id": "4ca66df3",
   "metadata": {},
   "outputs": [
    {
     "name": "stdout",
     "output_type": "stream",
     "text": [
      "[2, 3, 4, 5, 6, 7, 8, 9, 10]\n"
     ]
    }
   ],
   "source": [
    "python_list = [1, 2, 3, 4, 5, 6, 7, 8, 9]\n",
    "\n",
    "for i, _ in enumerate(python_list):\n",
    "    python_list[i] += 1\n",
    "\n",
    "print(python_list)\n",
    "    \n"
   ]
  },
  {
   "cell_type": "code",
   "execution_count": 49,
   "id": "5c1c122a",
   "metadata": {},
   "outputs": [
    {
     "data": {
      "text/plain": [
       "['C:\\\\Users\\\\JKE\\\\Py2B\\\\Kurs\\\\Jupyter notebook proj\\\\Py2b_Jesper_kenney\\\\Week 2',\n",
       " 'C:\\\\Users\\\\JKE\\\\AppData\\\\Local\\\\anaconda3\\\\python311.zip',\n",
       " 'C:\\\\Users\\\\JKE\\\\AppData\\\\Local\\\\anaconda3\\\\DLLs',\n",
       " 'C:\\\\Users\\\\JKE\\\\AppData\\\\Local\\\\anaconda3\\\\Lib',\n",
       " 'C:\\\\Users\\\\JKE\\\\AppData\\\\Local\\\\anaconda3',\n",
       " '',\n",
       " 'C:\\\\Users\\\\JKE\\\\AppData\\\\Local\\\\anaconda3\\\\Lib\\\\site-packages',\n",
       " 'C:\\\\Users\\\\JKE\\\\AppData\\\\Local\\\\anaconda3\\\\Lib\\\\site-packages\\\\win32',\n",
       " 'C:\\\\Users\\\\JKE\\\\AppData\\\\Local\\\\anaconda3\\\\Lib\\\\site-packages\\\\win32\\\\lib',\n",
       " 'C:\\\\Users\\\\JKE\\\\AppData\\\\Local\\\\anaconda3\\\\Lib\\\\site-packages\\\\Pythonwin']"
      ]
     },
     "execution_count": 49,
     "metadata": {},
     "output_type": "execute_result"
    }
   ],
   "source": [
    "import os\n",
    "os.sys.path"
   ]
  },
  {
   "cell_type": "code",
   "execution_count": 48,
   "id": "e01c2a57",
   "metadata": {},
   "outputs": [],
   "source": [
    "import numpy"
   ]
  },
  {
   "cell_type": "code",
   "execution_count": null,
   "id": "6222cd7d",
   "metadata": {},
   "outputs": [],
   "source": []
  }
 ],
 "metadata": {
  "kernelspec": {
   "display_name": "Python 3 (ipykernel)",
   "language": "python",
   "name": "python3"
  },
  "language_info": {
   "codemirror_mode": {
    "name": "ipython",
    "version": 3
   },
   "file_extension": ".py",
   "mimetype": "text/x-python",
   "name": "python",
   "nbconvert_exporter": "python",
   "pygments_lexer": "ipython3",
   "version": "3.11.7"
  }
 },
 "nbformat": 4,
 "nbformat_minor": 5
}
